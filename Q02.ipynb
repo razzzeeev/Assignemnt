{
  "nbformat": 4,
  "nbformat_minor": 0,
  "metadata": {
    "kernelspec": {
      "display_name": "Python [conda env:.conda-galytix-interview-01]",
      "language": "python",
      "name": "conda-env-.conda-galytix-interview-01-py"
    },
    "language_info": {
      "codemirror_mode": {
        "name": "ipython",
        "version": 3
      },
      "file_extension": ".py",
      "mimetype": "text/x-python",
      "name": "python",
      "nbconvert_exporter": "python",
      "pygments_lexer": "ipython3",
      "version": "3.7.6"
    },
    "colab": {
      "name": "Q02.ipynb",
      "provenance": [],
      "include_colab_link": true
    }
  },
  "cells": [
    {
      "cell_type": "markdown",
      "metadata": {
        "id": "view-in-github",
        "colab_type": "text"
      },
      "source": [
        "<a href=\"https://colab.research.google.com/github/razzzeeev/Assignemnt/blob/main/Q02.ipynb\" target=\"_parent\"><img src=\"https://colab.research.google.com/assets/colab-badge.svg\" alt=\"Open In Colab\"/></a>"
      ]
    },
    {
      "cell_type": "markdown",
      "metadata": {
        "id": "YkhWSk4J5eJW"
      },
      "source": [
        "# Setup"
      ]
    },
    {
      "cell_type": "code",
      "metadata": {
        "id": "LdidUtfJ5eJZ",
        "colab": {
          "base_uri": "https://localhost:8080/"
        },
        "outputId": "00782763-e912-49ff-c9e6-01be0f985f5c"
      },
      "source": [
        "%load_ext autoreload\n",
        "%autoreload \n",
        "\n",
        "import pandas as pd\n",
        "import sklearn"
      ],
      "execution_count": 4,
      "outputs": [
        {
          "output_type": "stream",
          "name": "stdout",
          "text": [
            "The autoreload extension is already loaded. To reload it, use:\n",
            "  %reload_ext autoreload\n"
          ]
        }
      ]
    },
    {
      "cell_type": "markdown",
      "metadata": {
        "id": "5Qv98UtL5eJc"
      },
      "source": [
        "# Questions"
      ]
    },
    {
      "cell_type": "markdown",
      "metadata": {
        "id": "qajmkJqS5eJd"
      },
      "source": [
        "## Data visualisation\n",
        "\n",
        "* Use standard visualisation techniques to understand the ml.csv dataset"
      ]
    },
    {
      "cell_type": "code",
      "metadata": {
        "id": "vPy_G56x5eJd",
        "colab": {
          "base_uri": "https://localhost:8080/",
          "height": 223
        },
        "outputId": "156365eb-b137-447a-b4a4-6ccda93a7775"
      },
      "source": [
        "dataset=pd.read_csv(\"ml.csv\")\n",
        "dataset.head()   #print first 5 rows\n",
        "\n"
      ],
      "execution_count": 10,
      "outputs": [
        {
          "output_type": "execute_result",
          "data": {
            "text/html": [
              "<div>\n",
              "<style scoped>\n",
              "    .dataframe tbody tr th:only-of-type {\n",
              "        vertical-align: middle;\n",
              "    }\n",
              "\n",
              "    .dataframe tbody tr th {\n",
              "        vertical-align: top;\n",
              "    }\n",
              "\n",
              "    .dataframe thead th {\n",
              "        text-align: right;\n",
              "    }\n",
              "</style>\n",
              "<table border=\"1\" class=\"dataframe\">\n",
              "  <thead>\n",
              "    <tr style=\"text-align: right;\">\n",
              "      <th></th>\n",
              "      <th>x0</th>\n",
              "      <th>x1</th>\n",
              "      <th>x2</th>\n",
              "      <th>x3</th>\n",
              "      <th>x4</th>\n",
              "      <th>x5</th>\n",
              "      <th>x6</th>\n",
              "      <th>x7</th>\n",
              "      <th>x8</th>\n",
              "      <th>x9</th>\n",
              "      <th>x10</th>\n",
              "      <th>x11</th>\n",
              "      <th>x12</th>\n",
              "      <th>x13</th>\n",
              "      <th>x14</th>\n",
              "      <th>x15</th>\n",
              "      <th>x16</th>\n",
              "      <th>x17</th>\n",
              "      <th>x18</th>\n",
              "      <th>x19</th>\n",
              "      <th>y</th>\n",
              "    </tr>\n",
              "  </thead>\n",
              "  <tbody>\n",
              "    <tr>\n",
              "      <th>0</th>\n",
              "      <td>0.059856</td>\n",
              "      <td>-0.613184</td>\n",
              "      <td>2.322512</td>\n",
              "      <td>0.564453</td>\n",
              "      <td>0.564453</td>\n",
              "      <td>-1.537281</td>\n",
              "      <td>0.651346</td>\n",
              "      <td>1.241025</td>\n",
              "      <td>-0.526630</td>\n",
              "      <td>-0.321259</td>\n",
              "      <td>-4.535690</td>\n",
              "      <td>4.172215</td>\n",
              "      <td>0.896425</td>\n",
              "      <td>-2.137238</td>\n",
              "      <td>-0.524706</td>\n",
              "      <td>-0.182015</td>\n",
              "      <td>-3.541982</td>\n",
              "      <td>0.627917</td>\n",
              "      <td>2.322512</td>\n",
              "      <td>1.209449</td>\n",
              "      <td>0</td>\n",
              "    </tr>\n",
              "    <tr>\n",
              "      <th>1</th>\n",
              "      <td>-0.583660</td>\n",
              "      <td>-1.716858</td>\n",
              "      <td>-0.536196</td>\n",
              "      <td>1.132689</td>\n",
              "      <td>1.132689</td>\n",
              "      <td>3.363117</td>\n",
              "      <td>-0.344752</td>\n",
              "      <td>-6.147045</td>\n",
              "      <td>0.387888</td>\n",
              "      <td>0.225844</td>\n",
              "      <td>7.066254</td>\n",
              "      <td>-3.368602</td>\n",
              "      <td>1.239733</td>\n",
              "      <td>-2.328327</td>\n",
              "      <td>-2.038456</td>\n",
              "      <td>0.152063</td>\n",
              "      <td>1.474279</td>\n",
              "      <td>0.085711</td>\n",
              "      <td>-0.536196</td>\n",
              "      <td>-0.910968</td>\n",
              "      <td>0</td>\n",
              "    </tr>\n",
              "    <tr>\n",
              "      <th>2</th>\n",
              "      <td>0.632819</td>\n",
              "      <td>0.754014</td>\n",
              "      <td>0.548169</td>\n",
              "      <td>-3.061347</td>\n",
              "      <td>-3.061347</td>\n",
              "      <td>1.723483</td>\n",
              "      <td>-1.107925</td>\n",
              "      <td>0.843077</td>\n",
              "      <td>-1.004112</td>\n",
              "      <td>1.006515</td>\n",
              "      <td>4.435341</td>\n",
              "      <td>2.350002</td>\n",
              "      <td>-0.509790</td>\n",
              "      <td>1.014956</td>\n",
              "      <td>-0.133556</td>\n",
              "      <td>-1.280977</td>\n",
              "      <td>2.352125</td>\n",
              "      <td>-0.905258</td>\n",
              "      <td>0.548169</td>\n",
              "      <td>-0.424693</td>\n",
              "      <td>1</td>\n",
              "    </tr>\n",
              "    <tr>\n",
              "      <th>3</th>\n",
              "      <td>0.666025</td>\n",
              "      <td>-1.231859</td>\n",
              "      <td>-0.615159</td>\n",
              "      <td>-0.096564</td>\n",
              "      <td>-0.096564</td>\n",
              "      <td>-2.362081</td>\n",
              "      <td>-0.926052</td>\n",
              "      <td>-3.724770</td>\n",
              "      <td>-1.291843</td>\n",
              "      <td>3.339638</td>\n",
              "      <td>-1.425629</td>\n",
              "      <td>-1.435194</td>\n",
              "      <td>0.822062</td>\n",
              "      <td>-0.863488</td>\n",
              "      <td>0.944573</td>\n",
              "      <td>-0.657542</td>\n",
              "      <td>0.061348</td>\n",
              "      <td>2.600972</td>\n",
              "      <td>-0.615159</td>\n",
              "      <td>1.216673</td>\n",
              "      <td>0</td>\n",
              "    </tr>\n",
              "    <tr>\n",
              "      <th>4</th>\n",
              "      <td>0.059144</td>\n",
              "      <td>-0.159858</td>\n",
              "      <td>1.185429</td>\n",
              "      <td>1.675701</td>\n",
              "      <td>1.675701</td>\n",
              "      <td>-2.002485</td>\n",
              "      <td>0.718597</td>\n",
              "      <td>1.630679</td>\n",
              "      <td>0.734710</td>\n",
              "      <td>0.517748</td>\n",
              "      <td>-5.180607</td>\n",
              "      <td>3.498812</td>\n",
              "      <td>-0.397651</td>\n",
              "      <td>1.153317</td>\n",
              "      <td>-0.866617</td>\n",
              "      <td>1.498591</td>\n",
              "      <td>0.581942</td>\n",
              "      <td>-2.246284</td>\n",
              "      <td>1.185429</td>\n",
              "      <td>3.011774</td>\n",
              "      <td>1</td>\n",
              "    </tr>\n",
              "  </tbody>\n",
              "</table>\n",
              "</div>"
            ],
            "text/plain": [
              "         x0        x1        x2        x3  ...       x17       x18       x19  y\n",
              "0  0.059856 -0.613184  2.322512  0.564453  ...  0.627917  2.322512  1.209449  0\n",
              "1 -0.583660 -1.716858 -0.536196  1.132689  ...  0.085711 -0.536196 -0.910968  0\n",
              "2  0.632819  0.754014  0.548169 -3.061347  ... -0.905258  0.548169 -0.424693  1\n",
              "3  0.666025 -1.231859 -0.615159 -0.096564  ...  2.600972 -0.615159  1.216673  0\n",
              "4  0.059144 -0.159858  1.185429  1.675701  ... -2.246284  1.185429  3.011774  1\n",
              "\n",
              "[5 rows x 21 columns]"
            ]
          },
          "metadata": {},
          "execution_count": 10
        }
      ]
    },
    {
      "cell_type": "code",
      "metadata": {
        "colab": {
          "base_uri": "https://localhost:8080/",
          "height": 223
        },
        "id": "YRm7xKhpDgN2",
        "outputId": "2937509e-f966-41c0-9bc2-3308e1186fd5"
      },
      "source": [
        "dataset.tail()   #print last 5 row"
      ],
      "execution_count": 30,
      "outputs": [
        {
          "output_type": "execute_result",
          "data": {
            "text/html": [
              "<div>\n",
              "<style scoped>\n",
              "    .dataframe tbody tr th:only-of-type {\n",
              "        vertical-align: middle;\n",
              "    }\n",
              "\n",
              "    .dataframe tbody tr th {\n",
              "        vertical-align: top;\n",
              "    }\n",
              "\n",
              "    .dataframe thead th {\n",
              "        text-align: right;\n",
              "    }\n",
              "</style>\n",
              "<table border=\"1\" class=\"dataframe\">\n",
              "  <thead>\n",
              "    <tr style=\"text-align: right;\">\n",
              "      <th></th>\n",
              "      <th>x0</th>\n",
              "      <th>x1</th>\n",
              "      <th>x2</th>\n",
              "      <th>x3</th>\n",
              "      <th>x4</th>\n",
              "      <th>x5</th>\n",
              "      <th>x6</th>\n",
              "      <th>x7</th>\n",
              "      <th>x8</th>\n",
              "      <th>x9</th>\n",
              "      <th>x10</th>\n",
              "      <th>x11</th>\n",
              "      <th>x12</th>\n",
              "      <th>x13</th>\n",
              "      <th>x14</th>\n",
              "      <th>x15</th>\n",
              "      <th>x16</th>\n",
              "      <th>x17</th>\n",
              "      <th>x18</th>\n",
              "      <th>x19</th>\n",
              "      <th>y</th>\n",
              "    </tr>\n",
              "  </thead>\n",
              "  <tbody>\n",
              "    <tr>\n",
              "      <th>995</th>\n",
              "      <td>-0.089335</td>\n",
              "      <td>-0.707953</td>\n",
              "      <td>-1.601152</td>\n",
              "      <td>3.344799</td>\n",
              "      <td>3.344799</td>\n",
              "      <td>-2.138397</td>\n",
              "      <td>-0.535857</td>\n",
              "      <td>0.765278</td>\n",
              "      <td>-0.358198</td>\n",
              "      <td>-1.660355</td>\n",
              "      <td>-4.766465</td>\n",
              "      <td>-6.017899</td>\n",
              "      <td>-0.324322</td>\n",
              "      <td>2.751492</td>\n",
              "      <td>2.023106</td>\n",
              "      <td>-0.070720</td>\n",
              "      <td>-0.159242</td>\n",
              "      <td>0.070483</td>\n",
              "      <td>-1.601152</td>\n",
              "      <td>-1.010918</td>\n",
              "      <td>0</td>\n",
              "    </tr>\n",
              "    <tr>\n",
              "      <th>996</th>\n",
              "      <td>0.796263</td>\n",
              "      <td>-0.544059</td>\n",
              "      <td>1.923068</td>\n",
              "      <td>-1.213895</td>\n",
              "      <td>-1.213895</td>\n",
              "      <td>-4.863790</td>\n",
              "      <td>0.970886</td>\n",
              "      <td>1.883344</td>\n",
              "      <td>0.936753</td>\n",
              "      <td>2.859356</td>\n",
              "      <td>-3.200602</td>\n",
              "      <td>2.827478</td>\n",
              "      <td>0.166317</td>\n",
              "      <td>1.350942</td>\n",
              "      <td>0.878975</td>\n",
              "      <td>-0.583111</td>\n",
              "      <td>-1.696265</td>\n",
              "      <td>1.597607</td>\n",
              "      <td>1.923068</td>\n",
              "      <td>-2.144857</td>\n",
              "      <td>0</td>\n",
              "    </tr>\n",
              "    <tr>\n",
              "      <th>997</th>\n",
              "      <td>0.006266</td>\n",
              "      <td>0.677183</td>\n",
              "      <td>1.111781</td>\n",
              "      <td>-0.392983</td>\n",
              "      <td>-0.392983</td>\n",
              "      <td>0.757790</td>\n",
              "      <td>-0.678159</td>\n",
              "      <td>2.550552</td>\n",
              "      <td>1.084215</td>\n",
              "      <td>2.059497</td>\n",
              "      <td>3.803106</td>\n",
              "      <td>7.076757</td>\n",
              "      <td>-1.113223</td>\n",
              "      <td>-1.856685</td>\n",
              "      <td>-0.884620</td>\n",
              "      <td>0.804411</td>\n",
              "      <td>-0.729983</td>\n",
              "      <td>-4.613538</td>\n",
              "      <td>1.111781</td>\n",
              "      <td>-1.170473</td>\n",
              "      <td>1</td>\n",
              "    </tr>\n",
              "    <tr>\n",
              "      <th>998</th>\n",
              "      <td>-0.598648</td>\n",
              "      <td>-1.018163</td>\n",
              "      <td>-0.892881</td>\n",
              "      <td>3.886200</td>\n",
              "      <td>3.886200</td>\n",
              "      <td>0.531769</td>\n",
              "      <td>1.616102</td>\n",
              "      <td>-3.609442</td>\n",
              "      <td>0.030014</td>\n",
              "      <td>-3.064055</td>\n",
              "      <td>-4.026865</td>\n",
              "      <td>-6.795032</td>\n",
              "      <td>-0.222822</td>\n",
              "      <td>0.350625</td>\n",
              "      <td>2.252174</td>\n",
              "      <td>-0.596400</td>\n",
              "      <td>-0.230354</td>\n",
              "      <td>-0.547367</td>\n",
              "      <td>-0.892881</td>\n",
              "      <td>2.406903</td>\n",
              "      <td>1</td>\n",
              "    </tr>\n",
              "    <tr>\n",
              "      <th>999</th>\n",
              "      <td>-0.731184</td>\n",
              "      <td>-1.105933</td>\n",
              "      <td>2.592094</td>\n",
              "      <td>0.478146</td>\n",
              "      <td>0.478146</td>\n",
              "      <td>-2.476153</td>\n",
              "      <td>0.023083</td>\n",
              "      <td>1.984368</td>\n",
              "      <td>0.278978</td>\n",
              "      <td>1.658869</td>\n",
              "      <td>-3.658256</td>\n",
              "      <td>5.387175</td>\n",
              "      <td>-1.519105</td>\n",
              "      <td>2.276860</td>\n",
              "      <td>-3.504439</td>\n",
              "      <td>-2.080188</td>\n",
              "      <td>2.059550</td>\n",
              "      <td>-0.875185</td>\n",
              "      <td>2.592094</td>\n",
              "      <td>1.786082</td>\n",
              "      <td>1</td>\n",
              "    </tr>\n",
              "  </tbody>\n",
              "</table>\n",
              "</div>"
            ],
            "text/plain": [
              "           x0        x1        x2        x3  ...       x17       x18       x19  y\n",
              "995 -0.089335 -0.707953 -1.601152  3.344799  ...  0.070483 -1.601152 -1.010918  0\n",
              "996  0.796263 -0.544059  1.923068 -1.213895  ...  1.597607  1.923068 -2.144857  0\n",
              "997  0.006266  0.677183  1.111781 -0.392983  ... -4.613538  1.111781 -1.170473  1\n",
              "998 -0.598648 -1.018163 -0.892881  3.886200  ... -0.547367 -0.892881  2.406903  1\n",
              "999 -0.731184 -1.105933  2.592094  0.478146  ... -0.875185  2.592094  1.786082  1\n",
              "\n",
              "[5 rows x 21 columns]"
            ]
          },
          "metadata": {},
          "execution_count": 30
        }
      ]
    },
    {
      "cell_type": "code",
      "metadata": {
        "colab": {
          "base_uri": "https://localhost:8080/"
        },
        "id": "VMkS5QYUxExx",
        "outputId": "095ed77c-8cfe-4e8a-fe3f-4ee7708662fc"
      },
      "source": [
        "dataset.shape  #print shape(no. of rows and columns) of the data"
      ],
      "execution_count": 11,
      "outputs": [
        {
          "output_type": "execute_result",
          "data": {
            "text/plain": [
              "(1000, 21)"
            ]
          },
          "metadata": {},
          "execution_count": 11
        }
      ]
    },
    {
      "cell_type": "code",
      "metadata": {
        "colab": {
          "base_uri": "https://localhost:8080/",
          "height": 315
        },
        "id": "B4jNScz7xhVq",
        "outputId": "bc43f870-9bf7-4604-da34-1f5fe987317b"
      },
      "source": [
        "dataset.describe() #view some basic statistical details like percentile, mean, std etc"
      ],
      "execution_count": 12,
      "outputs": [
        {
          "output_type": "execute_result",
          "data": {
            "text/html": [
              "<div>\n",
              "<style scoped>\n",
              "    .dataframe tbody tr th:only-of-type {\n",
              "        vertical-align: middle;\n",
              "    }\n",
              "\n",
              "    .dataframe tbody tr th {\n",
              "        vertical-align: top;\n",
              "    }\n",
              "\n",
              "    .dataframe thead th {\n",
              "        text-align: right;\n",
              "    }\n",
              "</style>\n",
              "<table border=\"1\" class=\"dataframe\">\n",
              "  <thead>\n",
              "    <tr style=\"text-align: right;\">\n",
              "      <th></th>\n",
              "      <th>x0</th>\n",
              "      <th>x1</th>\n",
              "      <th>x2</th>\n",
              "      <th>x3</th>\n",
              "      <th>x4</th>\n",
              "      <th>x5</th>\n",
              "      <th>x6</th>\n",
              "      <th>x7</th>\n",
              "      <th>x8</th>\n",
              "      <th>x9</th>\n",
              "      <th>x10</th>\n",
              "      <th>x11</th>\n",
              "      <th>x12</th>\n",
              "      <th>x13</th>\n",
              "      <th>x14</th>\n",
              "      <th>x15</th>\n",
              "      <th>x16</th>\n",
              "      <th>x17</th>\n",
              "      <th>x18</th>\n",
              "      <th>x19</th>\n",
              "      <th>y</th>\n",
              "    </tr>\n",
              "  </thead>\n",
              "  <tbody>\n",
              "    <tr>\n",
              "      <th>count</th>\n",
              "      <td>1000.000000</td>\n",
              "      <td>1000.000000</td>\n",
              "      <td>1000.000000</td>\n",
              "      <td>1000.000000</td>\n",
              "      <td>1000.000000</td>\n",
              "      <td>1000.000000</td>\n",
              "      <td>1000.000000</td>\n",
              "      <td>1000.000000</td>\n",
              "      <td>1000.000000</td>\n",
              "      <td>1000.000000</td>\n",
              "      <td>1000.000000</td>\n",
              "      <td>1000.000000</td>\n",
              "      <td>1000.000000</td>\n",
              "      <td>1000.000000</td>\n",
              "      <td>1000.000000</td>\n",
              "      <td>1000.000000</td>\n",
              "      <td>1000.000000</td>\n",
              "      <td>1000.000000</td>\n",
              "      <td>1000.000000</td>\n",
              "      <td>1000.000000</td>\n",
              "      <td>1000.000000</td>\n",
              "    </tr>\n",
              "    <tr>\n",
              "      <th>mean</th>\n",
              "      <td>-0.033344</td>\n",
              "      <td>-0.023231</td>\n",
              "      <td>-0.395385</td>\n",
              "      <td>0.006166</td>\n",
              "      <td>0.006166</td>\n",
              "      <td>0.239333</td>\n",
              "      <td>0.030522</td>\n",
              "      <td>-0.421310</td>\n",
              "      <td>0.047228</td>\n",
              "      <td>0.171481</td>\n",
              "      <td>0.727083</td>\n",
              "      <td>-0.630073</td>\n",
              "      <td>0.015511</td>\n",
              "      <td>-0.395275</td>\n",
              "      <td>0.063600</td>\n",
              "      <td>0.014615</td>\n",
              "      <td>0.209988</td>\n",
              "      <td>0.387723</td>\n",
              "      <td>-0.395385</td>\n",
              "      <td>-0.539941</td>\n",
              "      <td>0.499000</td>\n",
              "    </tr>\n",
              "    <tr>\n",
              "      <th>std</th>\n",
              "      <td>1.013009</td>\n",
              "      <td>1.029640</td>\n",
              "      <td>2.009109</td>\n",
              "      <td>1.978090</td>\n",
              "      <td>1.978090</td>\n",
              "      <td>2.107363</td>\n",
              "      <td>1.002618</td>\n",
              "      <td>2.202802</td>\n",
              "      <td>1.040565</td>\n",
              "      <td>1.988208</td>\n",
              "      <td>3.897085</td>\n",
              "      <td>3.731091</td>\n",
              "      <td>0.992347</td>\n",
              "      <td>1.981376</td>\n",
              "      <td>2.138400</td>\n",
              "      <td>0.972541</td>\n",
              "      <td>2.223097</td>\n",
              "      <td>2.009710</td>\n",
              "      <td>2.009109</td>\n",
              "      <td>1.990348</td>\n",
              "      <td>0.500249</td>\n",
              "    </tr>\n",
              "    <tr>\n",
              "      <th>min</th>\n",
              "      <td>-3.330786</td>\n",
              "      <td>-4.019121</td>\n",
              "      <td>-5.702446</td>\n",
              "      <td>-7.031495</td>\n",
              "      <td>-7.031495</td>\n",
              "      <td>-6.624661</td>\n",
              "      <td>-2.772839</td>\n",
              "      <td>-7.695420</td>\n",
              "      <td>-3.757435</td>\n",
              "      <td>-6.037023</td>\n",
              "      <td>-12.200620</td>\n",
              "      <td>-16.024787</td>\n",
              "      <td>-3.387235</td>\n",
              "      <td>-9.819943</td>\n",
              "      <td>-6.924821</td>\n",
              "      <td>-4.064603</td>\n",
              "      <td>-8.138330</td>\n",
              "      <td>-5.856985</td>\n",
              "      <td>-5.702446</td>\n",
              "      <td>-5.949569</td>\n",
              "      <td>0.000000</td>\n",
              "    </tr>\n",
              "    <tr>\n",
              "      <th>25%</th>\n",
              "      <td>-0.692925</td>\n",
              "      <td>-0.708283</td>\n",
              "      <td>-1.670074</td>\n",
              "      <td>-1.375619</td>\n",
              "      <td>-1.375619</td>\n",
              "      <td>-1.144063</td>\n",
              "      <td>-0.707877</td>\n",
              "      <td>-1.949425</td>\n",
              "      <td>-0.674816</td>\n",
              "      <td>-1.113896</td>\n",
              "      <td>-1.677895</td>\n",
              "      <td>-2.940827</td>\n",
              "      <td>-0.664057</td>\n",
              "      <td>-1.830263</td>\n",
              "      <td>-1.432148</td>\n",
              "      <td>-0.590170</td>\n",
              "      <td>-1.124045</td>\n",
              "      <td>-0.959849</td>\n",
              "      <td>-1.670074</td>\n",
              "      <td>-1.924088</td>\n",
              "      <td>0.000000</td>\n",
              "    </tr>\n",
              "    <tr>\n",
              "      <th>50%</th>\n",
              "      <td>-0.021251</td>\n",
              "      <td>0.005202</td>\n",
              "      <td>-0.554880</td>\n",
              "      <td>-0.072571</td>\n",
              "      <td>-0.072571</td>\n",
              "      <td>0.290362</td>\n",
              "      <td>0.053892</td>\n",
              "      <td>-0.421972</td>\n",
              "      <td>0.051405</td>\n",
              "      <td>0.204821</td>\n",
              "      <td>0.667150</td>\n",
              "      <td>-0.428282</td>\n",
              "      <td>0.031516</td>\n",
              "      <td>-0.392649</td>\n",
              "      <td>0.091388</td>\n",
              "      <td>0.047038</td>\n",
              "      <td>0.321612</td>\n",
              "      <td>0.299314</td>\n",
              "      <td>-0.554880</td>\n",
              "      <td>-0.475665</td>\n",
              "      <td>0.000000</td>\n",
              "    </tr>\n",
              "    <tr>\n",
              "      <th>75%</th>\n",
              "      <td>0.617568</td>\n",
              "      <td>0.668781</td>\n",
              "      <td>0.823475</td>\n",
              "      <td>1.400314</td>\n",
              "      <td>1.400314</td>\n",
              "      <td>1.756946</td>\n",
              "      <td>0.730804</td>\n",
              "      <td>1.050379</td>\n",
              "      <td>0.806826</td>\n",
              "      <td>1.426494</td>\n",
              "      <td>3.434756</td>\n",
              "      <td>1.980699</td>\n",
              "      <td>0.726661</td>\n",
              "      <td>0.847422</td>\n",
              "      <td>1.462370</td>\n",
              "      <td>0.699456</td>\n",
              "      <td>1.706936</td>\n",
              "      <td>1.759240</td>\n",
              "      <td>0.823475</td>\n",
              "      <td>0.796114</td>\n",
              "      <td>1.000000</td>\n",
              "    </tr>\n",
              "    <tr>\n",
              "      <th>max</th>\n",
              "      <td>3.513676</td>\n",
              "      <td>3.229829</td>\n",
              "      <td>5.982550</td>\n",
              "      <td>6.484561</td>\n",
              "      <td>6.484561</td>\n",
              "      <td>6.735077</td>\n",
              "      <td>3.103384</td>\n",
              "      <td>5.744023</td>\n",
              "      <td>3.556458</td>\n",
              "      <td>7.215038</td>\n",
              "      <td>13.699979</td>\n",
              "      <td>10.127276</td>\n",
              "      <td>3.777490</td>\n",
              "      <td>5.151350</td>\n",
              "      <td>6.871201</td>\n",
              "      <td>3.384539</td>\n",
              "      <td>8.199991</td>\n",
              "      <td>7.310601</td>\n",
              "      <td>5.982550</td>\n",
              "      <td>5.164638</td>\n",
              "      <td>1.000000</td>\n",
              "    </tr>\n",
              "  </tbody>\n",
              "</table>\n",
              "</div>"
            ],
            "text/plain": [
              "                x0           x1  ...          x19            y\n",
              "count  1000.000000  1000.000000  ...  1000.000000  1000.000000\n",
              "mean     -0.033344    -0.023231  ...    -0.539941     0.499000\n",
              "std       1.013009     1.029640  ...     1.990348     0.500249\n",
              "min      -3.330786    -4.019121  ...    -5.949569     0.000000\n",
              "25%      -0.692925    -0.708283  ...    -1.924088     0.000000\n",
              "50%      -0.021251     0.005202  ...    -0.475665     0.000000\n",
              "75%       0.617568     0.668781  ...     0.796114     1.000000\n",
              "max       3.513676     3.229829  ...     5.164638     1.000000\n",
              "\n",
              "[8 rows x 21 columns]"
            ]
          },
          "metadata": {},
          "execution_count": 12
        }
      ]
    },
    {
      "cell_type": "code",
      "metadata": {
        "colab": {
          "base_uri": "https://localhost:8080/"
        },
        "id": "m6XcwisRxyy3",
        "outputId": "745f847e-9214-4bab-bb38-16279e3ae0cf"
      },
      "source": [
        "dataset.info()   # concise summary of the dataframe"
      ],
      "execution_count": 16,
      "outputs": [
        {
          "output_type": "stream",
          "name": "stdout",
          "text": [
            "<class 'pandas.core.frame.DataFrame'>\n",
            "RangeIndex: 1000 entries, 0 to 999\n",
            "Data columns (total 21 columns):\n",
            " #   Column  Non-Null Count  Dtype  \n",
            "---  ------  --------------  -----  \n",
            " 0   x0      1000 non-null   float64\n",
            " 1   x1      1000 non-null   float64\n",
            " 2   x2      1000 non-null   float64\n",
            " 3   x3      1000 non-null   float64\n",
            " 4   x4      1000 non-null   float64\n",
            " 5   x5      1000 non-null   float64\n",
            " 6   x6      1000 non-null   float64\n",
            " 7   x7      1000 non-null   float64\n",
            " 8   x8      1000 non-null   float64\n",
            " 9   x9      1000 non-null   float64\n",
            " 10  x10     1000 non-null   float64\n",
            " 11  x11     1000 non-null   float64\n",
            " 12  x12     1000 non-null   float64\n",
            " 13  x13     1000 non-null   float64\n",
            " 14  x14     1000 non-null   float64\n",
            " 15  x15     1000 non-null   float64\n",
            " 16  x16     1000 non-null   float64\n",
            " 17  x17     1000 non-null   float64\n",
            " 18  x18     1000 non-null   float64\n",
            " 19  x19     1000 non-null   float64\n",
            " 20  y       1000 non-null   int64  \n",
            "dtypes: float64(20), int64(1)\n",
            "memory usage: 164.2 KB\n"
          ]
        }
      ]
    },
    {
      "cell_type": "code",
      "metadata": {
        "colab": {
          "base_uri": "https://localhost:8080/"
        },
        "id": "3pVkRzrVx67k",
        "outputId": "5d31ccd6-eef6-42c0-c31e-ce5c3c9767e7"
      },
      "source": [
        "dataset.isnull().sum() #checking the null values in the dataset"
      ],
      "execution_count": 15,
      "outputs": [
        {
          "output_type": "execute_result",
          "data": {
            "text/plain": [
              "x0     0\n",
              "x1     0\n",
              "x2     0\n",
              "x3     0\n",
              "x4     0\n",
              "x5     0\n",
              "x6     0\n",
              "x7     0\n",
              "x8     0\n",
              "x9     0\n",
              "x10    0\n",
              "x11    0\n",
              "x12    0\n",
              "x13    0\n",
              "x14    0\n",
              "x15    0\n",
              "x16    0\n",
              "x17    0\n",
              "x18    0\n",
              "x19    0\n",
              "y      0\n",
              "dtype: int64"
            ]
          },
          "metadata": {},
          "execution_count": 15
        }
      ]
    },
    {
      "cell_type": "markdown",
      "metadata": {
        "id": "f1KLKUfgBDnX"
      },
      "source": [
        "There is no null values."
      ]
    },
    {
      "cell_type": "markdown",
      "metadata": {
        "id": "l3HG4Lzy5eJe"
      },
      "source": [
        "## Machine learning\n",
        "\n",
        "* Establish a reliable roc_auc metric for this data set using a cross validation technique to predict y from x using a random forest.\n"
      ]
    },
    {
      "cell_type": "code",
      "metadata": {
        "id": "cz5YD1Gv5eJe",
        "colab": {
          "base_uri": "https://localhost:8080/"
        },
        "outputId": "4f25f24b-cb32-4551-f28d-f6de1d4aad60"
      },
      "source": [
        "#importing the required libraries\n",
        "from sklearn.model_selection import train_test_split\n",
        "from sklearn.metrics import roc_auc_score\n",
        "from sklearn.ensemble import RandomForestClassifier\n",
        "X=dataset[['x0','x1', 'x2', 'x3', 'x4', 'x5', 'x6' , 'x7' ,'x8', 'x9', 'x10','x11','x12','x13','x14','x15','x16','x17', 'x18', 'x19']]  # Features\n",
        "y=dataset['y']\n",
        "X_train, X_test, y_train, y_test = train_test_split(X, y, test_size=0.3) #splitting the dataset into train and test\n",
        "\n",
        "clf=RandomForestClassifier(n_estimators=100)\n",
        "clf.fit(X_train,y_train)\n",
        "\n",
        "y_pred=clf.predict(X_test)\n",
        "print(\"roc_auc_score:\",roc_auc_score(y_test, y_pred, average=None))\n",
        "\n",
        "\n",
        " "
      ],
      "execution_count": 17,
      "outputs": [
        {
          "output_type": "stream",
          "name": "stdout",
          "text": [
            "roc_auc_score: 0.7780677104241939\n"
          ]
        }
      ]
    },
    {
      "cell_type": "markdown",
      "metadata": {
        "id": "_PwKKuzb5eJf"
      },
      "source": [
        "## Bonus\n",
        "\n",
        "* How would you verify the model has has established which features are important and those that are not."
      ]
    },
    {
      "cell_type": "code",
      "metadata": {
        "id": "_v2Exj-f5eJf"
      },
      "source": [
        "from sklearn.ensemble import RandomForestClassifier\n"
      ],
      "execution_count": null,
      "outputs": []
    },
    {
      "cell_type": "code",
      "metadata": {
        "id": "V5konin-AKw7",
        "colab": {
          "base_uri": "https://localhost:8080/"
        },
        "outputId": "5cc4d452-ac8b-4827-9a21-1738a756f07f"
      },
      "source": [
        "clf=RandomForestClassifier(n_estimators=100)\n",
        "clf.fit(X_train,y_train)\n"
      ],
      "execution_count": 18,
      "outputs": [
        {
          "output_type": "execute_result",
          "data": {
            "text/plain": [
              "RandomForestClassifier(bootstrap=True, ccp_alpha=0.0, class_weight=None,\n",
              "                       criterion='gini', max_depth=None, max_features='auto',\n",
              "                       max_leaf_nodes=None, max_samples=None,\n",
              "                       min_impurity_decrease=0.0, min_impurity_split=None,\n",
              "                       min_samples_leaf=1, min_samples_split=2,\n",
              "                       min_weight_fraction_leaf=0.0, n_estimators=100,\n",
              "                       n_jobs=None, oob_score=False, random_state=None,\n",
              "                       verbose=0, warm_start=False)"
            ]
          },
          "metadata": {},
          "execution_count": 18
        }
      ]
    },
    {
      "cell_type": "code",
      "metadata": {
        "id": "huefu_RKCUDJ",
        "colab": {
          "base_uri": "https://localhost:8080/"
        },
        "outputId": "b2206095-ef88-4ac6-c651-3482c5738fe5"
      },
      "source": [
        "from sklearn.ensemble import RandomForestClassifier\n",
        "\n",
        "feature_names = [f\"feature {i}\" for i in range(X.shape[1])]\n",
        "forest = RandomForestClassifier(random_state=0)\n",
        "forest.fit(X_train, y_train)"
      ],
      "execution_count": 19,
      "outputs": [
        {
          "output_type": "execute_result",
          "data": {
            "text/plain": [
              "RandomForestClassifier(bootstrap=True, ccp_alpha=0.0, class_weight=None,\n",
              "                       criterion='gini', max_depth=None, max_features='auto',\n",
              "                       max_leaf_nodes=None, max_samples=None,\n",
              "                       min_impurity_decrease=0.0, min_impurity_split=None,\n",
              "                       min_samples_leaf=1, min_samples_split=2,\n",
              "                       min_weight_fraction_leaf=0.0, n_estimators=100,\n",
              "                       n_jobs=None, oob_score=False, random_state=0, verbose=0,\n",
              "                       warm_start=False)"
            ]
          },
          "metadata": {},
          "execution_count": 19
        }
      ]
    },
    {
      "cell_type": "code",
      "metadata": {
        "id": "YaUWd4YqFIra",
        "colab": {
          "base_uri": "https://localhost:8080/"
        },
        "outputId": "ca5797f5-6079-487d-b519-1da85bc99609"
      },
      "source": [
        "import pandas as pd\n",
        "\n",
        "feature_imp = pd.Series(clf.feature_importances_,index=feature_names)\n",
        "feature_imp"
      ],
      "execution_count": 20,
      "outputs": [
        {
          "output_type": "execute_result",
          "data": {
            "text/plain": [
              "feature 0     0.034168\n",
              "feature 1     0.030184\n",
              "feature 2     0.083185\n",
              "feature 3     0.042573\n",
              "feature 4     0.045884\n",
              "feature 5     0.049100\n",
              "feature 6     0.032360\n",
              "feature 7     0.095314\n",
              "feature 8     0.026045\n",
              "feature 9     0.082267\n",
              "feature 10    0.062371\n",
              "feature 11    0.037466\n",
              "feature 12    0.025625\n",
              "feature 13    0.049544\n",
              "feature 14    0.039213\n",
              "feature 15    0.030017\n",
              "feature 16    0.058422\n",
              "feature 17    0.047440\n",
              "feature 18    0.092105\n",
              "feature 19    0.036714\n",
              "dtype: float64"
            ]
          },
          "metadata": {},
          "execution_count": 20
        }
      ]
    },
    {
      "cell_type": "code",
      "metadata": {
        "id": "MlmdKRbpFRjx",
        "colab": {
          "base_uri": "https://localhost:8080/",
          "height": 312
        },
        "outputId": "1779313c-6fb7-4bfa-b3fe-3ed241741367"
      },
      "source": [
        "import matplotlib.pyplot as plt\n",
        "import seaborn as sns\n",
        "%matplotlib inline\n",
        "sns.barplot(x=feature_imp, y=feature_imp.index)\n",
        "plt.xlabel('Score of imp features')\n",
        "plt.ylabel('features')\n",
        "plt.title(\"Visualizing imp features\")\n",
        "plt.legend()\n",
        "plt.show()"
      ],
      "execution_count": 21,
      "outputs": [
        {
          "output_type": "stream",
          "name": "stderr",
          "text": [
            "No handles with labels found to put in legend.\n"
          ]
        },
        {
          "output_type": "display_data",
          "data": {
            "image/png": "[encoded data removed]",
            "text/plain": [
              "<Figure size 432x288 with 1 Axes>"
            ]
          },
          "metadata": {
            "needs_background": "light"
          }
        }
      ]
    },
    {
      "cell_type": "markdown",
      "metadata": {
        "id": "WtYFpGFjCihr"
      },
      "source": [
        "**Building model only on important Features**"
      ]
    },
    {
      "cell_type": "code",
      "metadata": {
        "id": "1Ba49zv5Fh0Q"
      },
      "source": [
        "from sklearn.model_selection import train_test_split\n",
        "X=dataset[['x2', 'x3', 'x4', 'x5' , 'x7', 'x9', 'x10','x11','x13','x14','x16','x17', 'x18']]  \n",
        "y=dataset['y']\n",
        "\n",
        "X_train, X_test, y_train, y_test = train_test_split(X, y, test_size=0.3)"
      ],
      "execution_count": 22,
      "outputs": []
    },
    {
      "cell_type": "code",
      "metadata": {
        "colab": {
          "base_uri": "https://localhost:8080/"
        },
        "id": "MJO0cOL_JER8",
        "outputId": "0a1c7d5a-3760-446c-f268-011c13b0eec2"
      },
      "source": [
        "\n",
        "from sklearn.ensemble import RandomForestClassifier\n",
        "from sklearn.metrics import roc_auc_score\n",
        "\n",
        "clf=RandomForestClassifier(n_estimators=100)\n",
        "\n",
        "clf.fit(X_train,y_train)\n",
        "y_pred=clf.predict(X_test)\n",
        "\n",
        "\n",
        "print(\"roc_auc_score:\",roc_auc_score(y_test, y_pred, average=None))"
      ],
      "execution_count": 25,
      "outputs": [
        {
          "output_type": "stream",
          "name": "stdout",
          "text": [
            "roc_auc_score: 0.8433333333333333\n"
          ]
        }
      ]
    },
    {
      "cell_type": "markdown",
      "metadata": {
        "id": "985b0OdcC2e3"
      },
      "source": [
        "After Removing less important Features roc_auc_score increased to 0.8433333333333333"
      ]
    },
    {
      "cell_type": "code",
      "metadata": {
        "colab": {
          "base_uri": "https://localhost:8080/"
        },
        "id": "lMFUZjCGDGl4",
        "outputId": "0c36582b-4e18-4120-e157-bad8d76e890a"
      },
      "source": [
        "from google.colab import drive\n",
        "drive.mount('/content/drive')"
      ],
      "execution_count": 27,
      "outputs": [
        {
          "output_type": "stream",
          "name": "stdout",
          "text": [
            "Drive already mounted at /content/drive; to attempt to forcibly remount, call drive.mount(\"/content/drive\", force_remount=True).\n"
          ]
        }
      ]
    }
  ]
}